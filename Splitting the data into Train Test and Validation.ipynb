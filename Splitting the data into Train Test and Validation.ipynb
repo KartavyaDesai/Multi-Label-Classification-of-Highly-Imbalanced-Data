{
 "cells": [
  {
   "cell_type": "code",
   "execution_count": 17,
   "id": "5250671b",
   "metadata": {},
   "outputs": [],
   "source": [
    "import pandas as pd\n",
    "df = pd.read_csv(\"mapped_movies2.csv\",index_col=\"Unnamed: 0\")\n",
    "df.dropna(inplace=True)"
   ]
  },
  {
   "cell_type": "code",
   "execution_count": 31,
   "id": "216c4331",
   "metadata": {},
   "outputs": [
    {
     "name": "stdout",
     "output_type": "stream",
     "text": [
      "Train set:\n",
      "      imdbId                                              Title  IMDB Score  \\\n",
      "8262  286218  Thí©ríÂse: The Story of Saint Thí©ríÂse of Lis...         6.4   \n",
      "4125   91860                                River's Edge (1986)         7.1   \n",
      "9203  156849                         Pro urodov i lyudey (1998)         7.2   \n",
      "3796  209322                               Skipped Parts (2000)         6.4   \n",
      "2253  120879                             Velvet Goldmine (1998)         7.0   \n",
      "\n",
      "                     Genre  \n",
      "8262       Biography|Drama  \n",
      "4125           Crime|Drama  \n",
      "9203  Comedy|Drama|History  \n",
      "3796  Comedy|Drama|Romance  \n",
      "2253           Drama|Music  \n",
      "\n",
      "Validation set:\n",
      "      imdbId                       Title  IMDB Score                  Genre\n",
      "6408  103747             The Babe (1992)         5.8  Biography|Drama|Sport\n",
      "7738  104545       Jamí_n, Jamí_n (1992)         6.5   Comedy|Drama|Romance\n",
      "2632   97428      Ghostbusters II (1989)         6.5  Action|Comedy|Fantasy\n",
      "3108   70903      The Way We Were (1973)         7.1          Drama|Romance\n",
      "7562   51808  The Hidden Fortress (1958)         8.1        Adventure|Drama\n",
      "\n",
      "Test set:\n",
      "      imdbId                                             Title  IMDB Score  \\\n",
      "4129   87015                                   C.H.U.D. (1984)         5.5   \n",
      "2298   95882  Police Academy 5: Assignment: Miami Beach (1988)         4.4   \n",
      "957    29855                                    Algiers (1938)         6.9   \n",
      "6834  373175                               My Architect (2003)         7.4   \n",
      "7658   57495                             Shock Corridor (1963)         7.5   \n",
      "\n",
      "                      Genre  \n",
      "4129          Horror|Sci-Fi  \n",
      "2298           Comedy|Crime  \n",
      "957   Drama|Mystery|Romance  \n",
      "6834  Documentary|Biography  \n",
      "7658          Drama|Mystery  \n"
     ]
    }
   ],
   "source": [
    "import pandas as pd\n",
    "from sklearn.model_selection import train_test_split\n",
    "\n",
    "# Splitting the DataFrame into train, test, and validation sets\n",
    "train_ratio = 0.8\n",
    "test_ratio = 0.1\n",
    "validation_ratio = 0.1\n",
    "\n",
    "# Splitting into train and temp sets\n",
    "train_df, temp_df = train_test_split(df, test_size=(1 - train_ratio))\n",
    "\n",
    "# Splitting temp set into test and validation sets\n",
    "relative_test_ratio = test_ratio / (test_ratio + validation_ratio)\n",
    "validation_df, test_df = train_test_split(temp_df, test_size=relative_test_ratio)\n",
    "\n",
    "print(\"Train set:\")\n",
    "print(train_df.head())\n",
    "\n",
    "print(\"\\nValidation set:\")\n",
    "print(validation_df.head())\n",
    "\n",
    "print(\"\\nTest set:\")\n",
    "print(test_df.head())\n"
   ]
  }
 ],
 "metadata": {
  "kernelspec": {
   "display_name": "Python 3 (ipykernel)",
   "language": "python",
   "name": "python3"
  },
  "language_info": {
   "codemirror_mode": {
    "name": "ipython",
    "version": 3
   },
   "file_extension": ".py",
   "mimetype": "text/x-python",
   "name": "python",
   "nbconvert_exporter": "python",
   "pygments_lexer": "ipython3",
   "version": "3.9.18"
  }
 },
 "nbformat": 4,
 "nbformat_minor": 5
}
